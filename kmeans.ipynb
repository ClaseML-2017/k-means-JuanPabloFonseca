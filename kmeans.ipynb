{
 "cells": [
  {
   "cell_type": "markdown",
   "metadata": {},
   "source": [
    "### Ejercicio de K-Means\n",
    "### Juan Pablo Fonseca 138263"
   ]
  },
  {
   "cell_type": "markdown",
   "metadata": {},
   "source": [
    "Se pretende categorizar/clasificar un conjunto de datos usando el método k-means, así como entrenar un modelo de clasificación en cada cluster. \n",
    "\n",
    "La base de datos con la que se trabajará es \"iris.data\", que tiene información sobre las plantas iris."
   ]
  },
  {
   "cell_type": "code",
   "execution_count": 28,
   "metadata": {},
   "outputs": [],
   "source": [
    "from sklearn.model_selection import train_test_split\n",
    "from sklearn.tree import DecisionTreeClassifier\n",
    "from math import fabs\n",
    "from random import uniform\n",
    "import pandas as pd\n",
    "import numpy as np\n",
    "import matplotlib.pyplot as plt\n",
    "from sklearn.cluster import KMeans\n",
    "from sklearn.metrics import confusion_matrix\n",
    "from sklearn.preprocessing import StandardScaler\n",
    "df = pd.read_csv(\"iris.data\",header=None, na_values = \"?\") # lectura de datos\n",
    "numc=[] # lista con las clasificaciones pero en números"
   ]
  },
  {
   "cell_type": "code",
   "execution_count": 29,
   "metadata": {},
   "outputs": [
    {
     "data": {
      "text/html": [
       "<div>\n",
       "<style>\n",
       "    .dataframe thead tr:only-child th {\n",
       "        text-align: right;\n",
       "    }\n",
       "\n",
       "    .dataframe thead th {\n",
       "        text-align: left;\n",
       "    }\n",
       "\n",
       "    .dataframe tbody tr th {\n",
       "        vertical-align: top;\n",
       "    }\n",
       "</style>\n",
       "<table border=\"1\" class=\"dataframe\">\n",
       "  <thead>\n",
       "    <tr style=\"text-align: right;\">\n",
       "      <th></th>\n",
       "      <th>0</th>\n",
       "      <th>1</th>\n",
       "      <th>2</th>\n",
       "      <th>3</th>\n",
       "      <th>4</th>\n",
       "    </tr>\n",
       "  </thead>\n",
       "  <tbody>\n",
       "    <tr>\n",
       "      <th>0</th>\n",
       "      <td>5.1</td>\n",
       "      <td>3.5</td>\n",
       "      <td>1.4</td>\n",
       "      <td>0.2</td>\n",
       "      <td>1</td>\n",
       "    </tr>\n",
       "    <tr>\n",
       "      <th>1</th>\n",
       "      <td>4.9</td>\n",
       "      <td>3.0</td>\n",
       "      <td>1.4</td>\n",
       "      <td>0.2</td>\n",
       "      <td>1</td>\n",
       "    </tr>\n",
       "    <tr>\n",
       "      <th>2</th>\n",
       "      <td>4.7</td>\n",
       "      <td>3.2</td>\n",
       "      <td>1.3</td>\n",
       "      <td>0.2</td>\n",
       "      <td>1</td>\n",
       "    </tr>\n",
       "    <tr>\n",
       "      <th>3</th>\n",
       "      <td>4.6</td>\n",
       "      <td>3.1</td>\n",
       "      <td>1.5</td>\n",
       "      <td>0.2</td>\n",
       "      <td>1</td>\n",
       "    </tr>\n",
       "    <tr>\n",
       "      <th>4</th>\n",
       "      <td>5.0</td>\n",
       "      <td>3.6</td>\n",
       "      <td>1.4</td>\n",
       "      <td>0.2</td>\n",
       "      <td>1</td>\n",
       "    </tr>\n",
       "  </tbody>\n",
       "</table>\n",
       "</div>"
      ],
      "text/plain": [
       "     0    1    2    3  4\n",
       "0  5.1  3.5  1.4  0.2  1\n",
       "1  4.9  3.0  1.4  0.2  1\n",
       "2  4.7  3.2  1.3  0.2  1\n",
       "3  4.6  3.1  1.5  0.2  1\n",
       "4  5.0  3.6  1.4  0.2  1"
      ]
     },
     "execution_count": 29,
     "metadata": {},
     "output_type": "execute_result"
    }
   ],
   "source": [
    "# paso a números la clasificación\n",
    "for i in range(len(df)):\n",
    "    curr = df[df.columns[-1]].iloc[i]\n",
    "    if(curr == \"Iris-setosa\"):\n",
    "        numc.append(1)\n",
    "    elif(curr == 'Iris-versicolor'):\n",
    "        numc.append(2)\n",
    "    elif(curr == 'Iris-virginica'):\n",
    "        numc.append(3)\n",
    "numc = pd.Series(numc)\n",
    "numc.astype('category')\n",
    "df[4] = numc\n",
    "df.head() # muestro el inicio de la base"
   ]
  },
  {
   "cell_type": "code",
   "execution_count": 30,
   "metadata": {},
   "outputs": [],
   "source": [
    "#separación de datos\n",
    "X_train, X_test, Y_train, Y_test = train_test_split(df[df.columns[0:-1]],df[df.columns[-1]], train_size=0.75)"
   ]
  },
  {
   "cell_type": "code",
   "execution_count": 31,
   "metadata": {},
   "outputs": [],
   "source": [
    "# pasarlo a matrices\n",
    "X_trainM = X_train.as_matrix()\n",
    "Y_trainM = Y_train.as_matrix()\n",
    "X_testM = X_test.as_matrix()\n",
    "Y_testM = Y_test.as_matrix()"
   ]
  },
  {
   "cell_type": "code",
   "execution_count": 32,
   "metadata": {},
   "outputs": [],
   "source": [
    "# acomodo los datos\n",
    "sepalLength = X_trainM[:,0] # tenemos cuatro atributos sin contar la etiqueta (categoría)\n",
    "sepalWidth = X_trainM[:,1]\n",
    "petalLength = X_trainM[:,2]\n",
    "petalWidth = X_trainM[:,3]\n",
    "sepalLengthT = X_testM[:,0]\n",
    "sepalWidthT = X_testM[:,1]\n",
    "petalLengthT = X_testM[:,2]\n",
    "petalWidthT = X_testM[:,3]\n",
    "entrenamientoSeleccionados = np.column_stack((sepalLength,sepalWidth,petalLength,petalWidth))\n",
    "pruebaSeleccionados = np.column_stack((sepalLengthT,sepalWidthT,petalLengthT,petalWidthT))\n"
   ]
  },
  {
   "cell_type": "code",
   "execution_count": 33,
   "metadata": {
    "collapsed": true
   },
   "outputs": [],
   "source": [
    "# Estandarizo\n",
    "scaler = StandardScaler()\n",
    "entrSel_escalados = scaler.fit_transform(entrenamientoSeleccionados)\n",
    "pruebaSel_escalados = scaler.transform(pruebaSeleccionados)"
   ]
  },
  {
   "cell_type": "markdown",
   "metadata": {},
   "source": [
    "#### Evaluación del modelo inicial"
   ]
  },
  {
   "cell_type": "code",
   "execution_count": 34,
   "metadata": {},
   "outputs": [
    {
     "data": {
      "text/plain": [
       "array([[14,  0,  0],\n",
       "       [ 0, 14,  0],\n",
       "       [ 0,  1,  9]], dtype=int64)"
      ]
     },
     "execution_count": 34,
     "metadata": {},
     "output_type": "execute_result"
    }
   ],
   "source": [
    "clf = DecisionTreeClassifier()\n",
    "clf = clf.fit(X=entrSel_escalados, y=Y_trainM)\n",
    "Y_test_prediction = clf.predict(pruebaSel_escalados)\n",
    "conf = confusion_matrix(Y_testM, Y_test_prediction)\n",
    "conf"
   ]
  },
  {
   "cell_type": "code",
   "execution_count": 35,
   "metadata": {},
   "outputs": [
    {
     "name": "stdout",
     "output_type": "stream",
     "text": [
      "Para la primera clase (precision y recall):\n",
      "Accuracy: 0.973684210526 Precision: 1.0 Recall: 1.0\n"
     ]
    }
   ],
   "source": [
    "print(\"Para la primera clase (precision y recall):\")\n",
    "total = float(conf[0][0]+ conf[0][1]+ conf[0][2]+ conf[1][0]+ conf[1][1]+ conf[1][2]+ conf[2][0]+ conf[2][1]+ conf[2][2])\n",
    "#Accuracy (num buenos/total)\n",
    "accuracy = float(conf[0][0] + conf[1][1] + conf[2][2]) / total\n",
    "#Precision para la primera clase\n",
    "precision = float(conf[0][0])/float(conf[0][0] + conf[0][1] + conf[0][2])\n",
    "#Recall para la primera clase\n",
    "recall = float(conf[0][0])/float(conf[0][0] + conf[1][0] + conf[2][0])\n",
    "print(\"Accuracy: {0} Precision: {1} Recall: {2}\".format(accuracy,precision,recall))"
   ]
  },
  {
   "cell_type": "markdown",
   "metadata": {},
   "source": [
    "Dado que la BD es realmente sencilla, el desempeño inicial es extraordinariamente bueno."
   ]
  },
  {
   "cell_type": "markdown",
   "metadata": {},
   "source": [
    "### K-Means"
   ]
  },
  {
   "cell_type": "code",
   "execution_count": 36,
   "metadata": {
    "collapsed": true
   },
   "outputs": [],
   "source": [
    "num_clusters = 5 # fue uno de los que mejor se comportó\n",
    "modeloKM = KMeans(n_clusters=num_clusters)"
   ]
  },
  {
   "cell_type": "code",
   "execution_count": 37,
   "metadata": {},
   "outputs": [],
   "source": [
    "etiquetasClusterEntr = modeloKM.fit_predict(entrSel_escalados)\n",
    "entrSel_escalados = np.column_stack((entrSel_escalados,etiquetasClusterEntr)) # labels train\n",
    "etiquetasClusterPru = modeloKM.predict(pruebaSel_escalados) # labels test\n",
    "pruebaSel_escalados = np.column_stack((pruebaSel_escalados,etiquetasClusterPru))\n",
    "entrSel_escalados = np.column_stack((entrSel_escalados,Y_trainM))\n",
    "# para este punto las dos últimas columnas son etiquetas"
   ]
  },
  {
   "cell_type": "code",
   "execution_count": 38,
   "metadata": {
    "collapsed": true
   },
   "outputs": [],
   "source": [
    "# classif guardará a los clasificadores\n",
    "classif = []\n",
    "for i in range(num_clusters): # se recorren los clasificadores\n",
    "    c = DecisionTreeClassifier() # se inicializa el clasificador\n",
    "    classif.append(c) # dicho clasificador se agrega a la lista\n",
    "    current_cluster = np.array([x for x in entrSel_escalados if x[-2] == i]) # se detecta el current cluster\n",
    "    classif[i].fit(current_cluster[:,:-2], current_cluster[:,-1])\n",
    "listaPredicciones = []\n",
    "for x in pruebaSel_escalados:\n",
    "    cluster_num = int(x[-1])\n",
    "    sample = x[:-1].reshape(1, -1)\n",
    "    listaPredicciones.append(classif[cluster_num].predict(sample)) # predicciones\n",
    "listaPredicciones = np.array(listaPredicciones)"
   ]
  },
  {
   "cell_type": "markdown",
   "metadata": {},
   "source": [
    "### Evaluación del segundo modelo"
   ]
  },
  {
   "cell_type": "code",
   "execution_count": 39,
   "metadata": {},
   "outputs": [
    {
     "data": {
      "text/plain": [
       "array([[14,  0,  0],\n",
       "       [ 0, 12,  2],\n",
       "       [ 0,  0, 10]], dtype=int64)"
      ]
     },
     "execution_count": 39,
     "metadata": {},
     "output_type": "execute_result"
    }
   ],
   "source": [
    "# matriz de confusión\n",
    "conf = confusion_matrix(Y_testM, listaPredicciones)\n",
    "conf"
   ]
  },
  {
   "cell_type": "code",
   "execution_count": 40,
   "metadata": {},
   "outputs": [
    {
     "name": "stdout",
     "output_type": "stream",
     "text": [
      "Para la primera clase (precision y recall):\n",
      "Accuracy: 0.947368421053 Precision: 1.0 Recall: 1.0\n"
     ]
    }
   ],
   "source": [
    "print(\"Para la primera clase (precision y recall):\")\n",
    "total = float(conf[0][0]+ conf[0][1]+ conf[0][2]+ conf[1][0]+ conf[1][1]+ conf[1][2]+ conf[2][0]+ conf[2][1]+ conf[2][2])\n",
    "#Accuracy (num buenos/total)\n",
    "accuracy = float(conf[0][0] + conf[1][1] + conf[2][2]) / total\n",
    "#Precision para la primera clase\n",
    "precision = float(conf[0][0])/float(conf[0][0] + conf[0][1] + conf[0][2])\n",
    "#Recall para la primera clase\n",
    "recall = float(conf[0][0])/float(conf[0][0] + conf[1][0] + conf[2][0])\n",
    "print(\"Accuracy: {0} Precision: {1} Recall: {2}\".format(accuracy,precision,recall))"
   ]
  },
  {
   "cell_type": "markdown",
   "metadata": {},
   "source": [
    "Se observa que el desempeño de hecho baja un poco, pero la diferencia es casi despreciable. Podemos concluir que ambos métodos son prácticamente igual de buenos.\n",
    "\n",
    "Como trabajo futuro, habría que probar con distintas bases de datos para tener una mejor idea del desempeño del método."
   ]
  },
  {
   "cell_type": "markdown",
   "metadata": {},
   "source": []
  }
 ],
 "metadata": {
  "kernelspec": {
   "display_name": "Python 2",
   "language": "python",
   "name": "python2"
  },
  "language_info": {
   "codemirror_mode": {
    "name": "ipython",
    "version": 2
   },
   "file_extension": ".py",
   "mimetype": "text/x-python",
   "name": "python",
   "nbconvert_exporter": "python",
   "pygments_lexer": "ipython2",
   "version": "2.7.6"
  }
 },
 "nbformat": 4,
 "nbformat_minor": 1
}
